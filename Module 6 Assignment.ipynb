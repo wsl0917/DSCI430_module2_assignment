{
 "cells": [
  {
   "cell_type": "markdown",
   "id": "e2dc12be-c0a1-4c10-89bb-c41c4748e95d",
   "metadata": {},
   "source": [
    "# Module 5 - Deployment of predictive models, dissemination of knowledge and additional topics\n",
    "\n",
    "### Assignment overview\n",
    "\n",
    "\n",
    "\n",
    "For this assignment, it is possible to work in **groups of up to 2 students**. Read the instructions carefully, as they may assign tasks to specific students.\n",
    "\n",
    "### Group members\n",
    "Leave blanks if group has less than 2 members:\n",
    "- Student 1:\n",
    "- Student 2:\n",
    "\n",
    "\n",
    "### Learning Goals:\n",
    "\n",
    "After completing this week's lecture and tutorial work, you will be able to:\n",
    "1. Provide examples of what happens when poorly designed models are deployed  \n",
    "2. Recognize the impact of technologies on at risk populations \n",
    "3. Recognize and discuss the impacts of addictive online environments that optimize on metrics that do not benefit its users \n",
    "4. Discuss how data science techniques can be used to mislead \n",
    "5. Identify how one’s identity connects to interpretation of results (e.g., confirmation bias) \n",
    "6. Discuss the ethics of displaying and reporting findings  \n",
    "7. Explain Goodhart's Law: when the metric becomes the target\n",
    "8. Understand and assess the environmental impact of data science and AI applications\n"
   ]
  },
  {
   "cell_type": "markdown",
   "id": "808c1b8e-874b-4f87-a379-d2130dd9da32",
   "metadata": {},
   "source": [
    "# Goodhart's law - scenario\n",
    "\n",
    "In class, we cited Goodhart's law:\n",
    "\n",
    "*<p style=\"text-align: center;\">When a measure becomes a target it ceases to be a good measure.</p>*\n",
    "\n",
    "Let's see how this plays out in a real-life scenario. Start by reading this article by Cathy O'Neil, based on her book *Weapons of Math Destruction*: [\"How Big Data Transformed Applying to College\"](https://slate.com/business/2016/09/how-big-data-made-applying-to-college-tougher-crueler-and-more-expensive.html).\n",
    "\n",
    "This article describes the importance of a particular metric, the *U.S. News & World Reports* college rankings, for colleges and students applying to those colleges. These scores are supposed to provide a quantitative, objective measure of the quality of an institution. Colleges know that students and their parents believe in the importance of these rankings, and will go to great lengths to make sure their score is high. This system, however, presents several issues and has had negative consequences on students.\n",
    "\n",
    "#### Question 1\n",
    "Let's start by looking at the algorithm used to produced the rankings. How would you evaluate this algorithm using our FATE lenses? Do you see issues of fairness, accountability, and/or transparency? "
   ]
  },
  {
   "cell_type": "markdown",
   "id": "7566e95f-b943-4d01-804c-c6130371ff5f",
   "metadata": {},
   "source": []
  },
  {
   "cell_type": "markdown",
   "id": "5250a553-d7e9-4911-af41-a69f5edf6633",
   "metadata": {},
   "source": [
    "#### Question 2"
   ]
  },
  {
   "cell_type": "markdown",
   "id": "2012344b-db0d-46f5-839f-947842a02814",
   "metadata": {},
   "source": [
    "List at least 3 ways, cited in the articles, in which colleges are trying to inflate their ranking, and explain why these actions, while boosting a college's score, are not effective at improving the college's quality or the students' experience."
   ]
  },
  {
   "cell_type": "markdown",
   "id": "c4d5f4e5-ec22-4ee8-86d4-dabfb0eaf24c",
   "metadata": {},
   "source": []
  },
  {
   "cell_type": "markdown",
   "id": "273c1683-2973-414b-b6a7-ad65a8a68df7",
   "metadata": {},
   "source": [
    "#### Question 3\n",
    "The article mentions that metrics boosting a college's ranking include low acceptance rates (a sign of exclusivity) and high enrollment rates from accepted students (a sign of high desirability). It also explains that this resulted in an increase in applications to different schools (*\"the number of students applying to at least seven has tripled since 1990, from 9 percent to 29 percent\"*) and in the *death of the concept of safety school*. What do you think the author means by this? What is the connection between the U.S. News rankings and the chances of being invited to apply to a \"safety school\"?\n",
    "\n",
    "For clarity, here is a definition of \"safety school\", according to [the Princeton Review](https://www.princetonreview.com/college-advice/dream-match-safety-schools#:~:text=A%20safety%20school%20is%20one,d%20be%20happy%20to%20attend.): *\"A safety school is one where your academic credentials exceed the school's range for the average first-year student. You should be reasonably certain that you will be admitted to your safety schools\"*."
   ]
  },
  {
   "cell_type": "markdown",
   "id": "b7b129a1-38a4-41da-a15d-3633062638f4",
   "metadata": {},
   "source": []
  },
  {
   "cell_type": "markdown",
   "id": "bf1196c1-1b4e-4407-81cf-5029a20ba7b5",
   "metadata": {},
   "source": [
    "# Addictive Online Environments\n",
    "\n",
    "The addictive power of some technologies and online environments is becoming widely known. In class, we talked about some of the typical features a developer may include in their app or website to make them more addictive. The list includes:\n",
    "- endless scrolling\n",
    "- pull-to-refresh\n",
    "- never-ending auto-play videos\n",
    "- push notifications\n",
    "- temporarily available stories\n",
    "- likes\n",
    "- read-receipts\n",
    "\n",
    "As part of this exercise, we would like each member of the group to go through their phone and find one app with addictive features and one without, and describe them here. Make sure to pick apps you feel comfortable talking about. Answer the question by editing the templates below (one for each student - if you are working alone, you can delete the second template or leave it blank)."
   ]
  },
  {
   "cell_type": "markdown",
   "id": "7c771ad8-f3eb-46ff-a2c2-a09e44989c15",
   "metadata": {},
   "source": [
    "### Student 1: - your name here -\n",
    "\n",
    "#### App with addictive features\n",
    "**App name:**\n",
    "\n",
    "**App main functionality/goal:**\n",
    "\n",
    "**Decription of addictive features:**\n",
    "\n",
    "**App frequency of use:** (weekly? daily? hourly?)\n",
    "\n",
    "If you are comfortable doing so, describe your use of the app. Do you open it only when you need to complete a specific task? Or also in an unplanned, more spontaneous manner?  How long do you stay on the app after opening it? Do you find some app features compelling to open it or to use it for a longer time (e.g. push notifications)? \n",
    "\n",
    "#### App without addictive features\n",
    "**App name:**\n",
    "\n",
    "**App main functionality/goal:**\n",
    "\n",
    "**App frequency of use:** (weekly? daily? hourly?)\n",
    "\n",
    "If you are comfortable doing so, describe your use of the app. Do you open it only when you need to complete a specific task? Or also in an unplanned, more spontaneous manner?  How long do you stay on the app after opening it? Do you find some app features compelling to open it or to use it for a longer time, which were not listed as addictive features? "
   ]
  },
  {
   "cell_type": "markdown",
   "id": "ff053538-2c8e-4be4-82e4-641b0d10609a",
   "metadata": {},
   "source": [
    "### Student 2: - your name here -\n",
    "\n",
    "#### App with addictive features\n",
    "**App name:**\n",
    "\n",
    "**App main functionality/goal:**\n",
    "\n",
    "**Decription of addictive features:**\n",
    "\n",
    "**App frequency of use:** (weekly? daily? hourly?)\n",
    "\n",
    "If you are comfortable doing so, describe your use of the app. Do you open it only when you need to complete a specific task? Or also in an unplanned, more spontaneous manner?  How long do you stay on the app after opening it? Do you find some app features compelling to open it or to use it for a longer time (e.g. push notifications)? \n",
    "\n",
    "#### App without addictive features\n",
    "**App name:**\n",
    "\n",
    "**App main functionality/goal:**\n",
    "\n",
    "**App frequency of use:** (weekly? daily? hourly?)\n",
    "\n",
    "If you are comfortable doing so, describe your use of the app. Do you open it only when you need to complete a specific task? Or also in an unplanned, more spontaneous manner?  How long do you stay on the app after opening it? Do you find some app features compelling to open it or to use it for a longer time, which were not listed as addictive features? "
   ]
  },
  {
   "cell_type": "markdown",
   "id": "afc0f835-7d9a-4af8-ad31-8f99939d4e23",
   "metadata": {},
   "source": [
    "# Misleading Data Science Techniques\n",
    "\n",
    "There are many ways in which data science may lead to the wrong conclusions, either by error or intentionally. A very good summary of such techniques is offered by Carl Bergstrom and Jevin West in their course [\"Calling Bullshit in the Age of Big Data\"](https://www.youtube.com/playlist?list=PLPnZfvKID1Sje5jWxt-4CSZD7bUI4gSPS), offered at the University of Washington and with recordings available online. \n",
    "\n",
    "We are going to review some of these techniques here (most of them have to do with visualization):\n",
    "\n",
    "- [Dataviz in the popular media.](https://www.youtube.com/watch?v=T-5aLbNeGo0&list=PLPnZfvKID1Sje5jWxt-4CSZD7bUI4gSPS&index=30)\n",
    "- [Misleading axes.](https://www.youtube.com/watch?v=9pNWVMxaFuM&list=PLPnZfvKID1Sje5jWxt-4CSZD7bUI4gSPS&index=30)\n",
    "- [Manipulating bin sizes.](https://www.youtube.com/watch?v=zAg1wsYfwsM&list=PLPnZfvKID1Sje5jWxt-4CSZD7bUI4gSPS&index=31)\n",
    "- [Dataviz ducks.](https://www.youtube.com/watch?v=rmii1hfP6d4&list=PLPnZfvKID1Sje5jWxt-4CSZD7bUI4gSPS&index=32)\n",
    "- [Glass slippers.](https://www.youtube.com/watch?v=59teS0SUHtI&list=PLPnZfvKID1Sje5jWxt-4CSZD7bUI4gSPS&index=33)\n",
    "- [The principle of proportional ink.](https://www.youtube.com/watch?v=oNhusd3xFC4&list=PLPnZfvKID1Sje5jWxt-4CSZD7bUI4gSPS&index=34)\n",
    "- [Correlation vs. Causation](https://www.youtube.com/watch?v=YAAHJm1pi1E&list=PLPnZfvKID1Sje5jWxt-4CSZD7bUI4gSPS&index=12)\n",
    "\n",
    "Now that you have familiarized with some misleading data science techniques, let's try to evaluate a real scenario. Here is an [article](https://www.nature.com/articles/431525a), published on \n",
    "Nature in 2004, claiming that trends in the winning times of the men's and women's Olympic 100-meters sprint show that women are closing the time gap, and will one day (some time around 2156, to be exact) complete the race faster than men athletes.\n",
    "\n",
    "#### Question 4\n",
    "\n",
    "Do you think that the claim made by the article is true? If not, what mistake(s) did the authors commit that led them to this wrong conclusion? "
   ]
  },
  {
   "cell_type": "markdown",
   "id": "4453ae91-e3f7-4fd6-adad-4e18c1591366",
   "metadata": {},
   "source": []
  },
  {
   "cell_type": "markdown",
   "id": "5c8e6b1e-4bd1-4581-b62a-78637671142d",
   "metadata": {},
   "source": [
    "# AI and the environment\n",
    "\n",
    "Source: [The Carbon Footprint of Artificial Intelligence](https://dl.acm.org/doi/pdf/10.1145/3603746)\n",
    "\n",
    "AI applications are becoming ubiquitous in society, from recommendation algorithms on streaming services and social media, to semi-autonomous vehicles, large language models and more. Few people, however, including few of the developers of these systems, spend time thinking about their environmental impact. Even fewer try to evaluate this impact. \n",
    "\n",
    "The cost of training and maintaining AI algorithms is not immediately evident. The most obvious is the massive amount of electricity that they require. Depending on how that electricity is produced, there is also a variable cost in terms of CO2 released in the athmosphere. And we should not forget the cost of building and maintaining the hardware on which AI algorithms run, from the extraction of the raw materials, to the manifacturing and transportation of this hardware, concluding with the cost of disposing of it once it reached the end of its lifespan. Recent estimates of AI’s carbon footprint range from 2.1% to 3.9% of the total greenhouse gas emissions. Still a small fraction of what is produced by more polluting industries such as manufacturing (24%) and transportation (27%), but not insignificant.\n",
    "\n",
    "In April 2022, AI startup Hugging Face released an [article](https://huggingface.co/blog/carbon-emissions-on-the-hub) with an estimate of the carbon footprint of one of its own AI models, comprehensive of all emissions produced during the model’s whole life cycle. They estimated that the training alone of their model resulted in 25 metric tons of CO2 emissions. When they included the emissions produced by the manufacturing of the\n",
    "hardware and the broader computing infrastructure, and the energy required to run the trained model, the esitmate doubled to 50 metric tons of CO2 emissions, similar to the amount of CO2 produced by 11 gasoline-powered cars driven for one year.\n"
   ]
  },
  {
   "attachments": {
    "image.png": {
     "image/png": "[encoded data removed]"
    }
   },
   "cell_type": "markdown",
   "id": "4180f257",
   "metadata": {},
   "source": [
    "![image.png](attachment:image.png)"
   ]
  },
  {
   "cell_type": "markdown",
   "id": "676b3c5a-3548-4a61-a496-f2a5feeb12ff",
   "metadata": {},
   "source": [
    "<p style=\"text-align: center;\">\n",
    "Training neural network models takes more time and energy than simply using them for a single prediction. Here are some estimates for the emissions of 11 popular NLP and computer vision models.\n",
    "    </p>"
   ]
  },
  {
   "cell_type": "markdown",
   "id": "78ba455a-92de-4c1d-99e4-3923056854ac",
   "metadata": {},
   "source": [
    "Jesse Dodge, a research scientist at the Allen Institute for AI, said: “When AI developers create new systems, they’re trying to push performance, accuracy, or the model’s capabilities, and they focus less on efficiency”. And it turns out that this focus on accuracy above everything else is costly. Here is a quote from a [2022 paper by Mill et al.](https://dl.acm.org/doi/pdf/10.1145/3514094.3534175):\n",
    "\n",
    "*There is a recognised trade-off between model accuracy and energy efficiency. In fact, the relationship has been shown to be logarithmic. That is, in order to achieve a linear improvement in accuracy, an exponentially larger model is required. A recent study [...] confirmed the existence of the accuracy-energy trade off [...] and indicated a 30-50% saving in energy for training related to a 1% reduction in accuracy.*\n",
    "\n",
    "In this portion of the assignment, we will increase our awareness of the carbon footprint of our algorithms, thanks to a software tool called [CodeCarbon](https://codecarbon.io/). Let's start by installing the required packages in your environment (you can delete or comment out this cell after you are done)."
   ]
  },
  {
   "cell_type": "code",
   "execution_count": null,
   "id": "b850fc03-375b-43d9-9b8d-507f3038ae2e",
   "metadata": {
    "tags": []
   },
   "outputs": [],
   "source": [
    "# !pip install codecarbon\n",
    "# !pip install transformers"
   ]
  },
  {
   "cell_type": "markdown",
   "id": "b316dc11-9354-41a5-a138-e065807db19f",
   "metadata": {},
   "source": [
    "This next cell is for importing CodeCarbon, as well as other libraries we will need for this exercise."
   ]
  },
  {
   "cell_type": "code",
   "execution_count": null,
   "id": "67af5559",
   "metadata": {
    "tags": []
   },
   "outputs": [],
   "source": [
    "from codecarbon import EmissionsTracker\n",
    "from transformers import pipeline\n",
    "\n",
    "import matplotlib.pyplot as plt\n",
    "import numpy as np\n",
    "import pandas as pd\n",
    "import xgboost as xgb\n",
    "from sklearn.compose import ColumnTransformer, make_column_transformer\n",
    "from sklearn.ensemble import RandomForestClassifier\n",
    "from sklearn.impute import SimpleImputer\n",
    "from xgboost import XGBClassifier\n",
    "from scipy.stats import lognorm, loguniform, randint\n",
    "from sklearn.model_selection import (\n",
    "    GridSearchCV,\n",
    "    RandomizedSearchCV,\n",
    "    cross_val_score,\n",
    "    cross_validate,\n",
    "    train_test_split,\n",
    ")\n",
    "from sklearn.pipeline import Pipeline, make_pipeline\n",
    "from sklearn.preprocessing import OneHotEncoder, StandardScaler\n",
    "from sklearn.svm import SVC"
   ]
  },
  {
   "cell_type": "markdown",
   "id": "d0440f5c-8ffd-4f05-92dc-9143cca2d1cc",
   "metadata": {},
   "source": [
    "Let's see how the tool works in a toy example. In this cell, we are first creating an EmissionTracker. Then, we can call start() to start tracking the power required by following operations, thus producing an estimate of the associated carbon emissions. Stop tracking by calling stop() at the end of the operations you want to produce an estimate for. In this case, we are estimating the cost of 100,000 simple additions."
   ]
  },
  {
   "cell_type": "code",
   "execution_count": null,
   "id": "2c9574c7",
   "metadata": {
    "tags": []
   },
   "outputs": [],
   "source": [
    "tracker = EmissionsTracker(log_level='error')\n",
    "tracker.start()\n",
    "try:\n",
    "    for i in range(100000):\n",
    "        _ = 1 + 1\n",
    "finally:\n",
    "     tracker.stop()"
   ]
  },
  {
   "cell_type": "code",
   "execution_count": null,
   "id": "cd31479e",
   "metadata": {
    "tags": []
   },
   "outputs": [],
   "source": [
    "# Visualize the results\n",
    "tracker.final_emissions_data"
   ]
  },
  {
   "cell_type": "markdown",
   "id": "46f53811-797b-43bc-9172-8ed1b2ada95f",
   "metadata": {},
   "source": [
    "Let's now try a more complex task: question answering. Question answering is a task in Natural Language Processing (NLP) which, as the name suggests, aims at producing an answer to a question asked in natural language. For this test will use the framework created by Hugging Face ([transformers](https://huggingface.co/docs/transformers/index))."
   ]
  },
  {
   "cell_type": "code",
   "execution_count": null,
   "id": "fb8e58b7",
   "metadata": {
    "tags": []
   },
   "outputs": [],
   "source": [
    "tracker = EmissionsTracker(log_level='error')\n",
    "tracker.start()  # Starting the tracker\n",
    "try:\n",
    "    nlp = pipeline('question-answering')  # transformer; for more info, check https://huggingface.co/docs/transformers/task_summary#question-answering\n",
    "    print(nlp({\n",
    "    'question': 'What was on the steps?',\n",
    "    'context': \"He walked down the steps from the train station in a bit of a hurry knowing the secrets in the briefcase must be secured as quickly as possible. Bounding down the steps, he heard something behind him and quickly turned in a panic. There was nobody there but a pair of old worn-out shoes were placed neatly on the steps he had just come down. Had he past them without seeing them? It didn't seem possible. He was about to turn and be on his way when a deep chill filled his body.\"}))\n",
    "finally:\n",
    "     tracker.stop()  # Stopping the tracker"
   ]
  },
  {
   "cell_type": "code",
   "execution_count": null,
   "id": "61602846",
   "metadata": {
    "tags": []
   },
   "outputs": [],
   "source": [
    "tracker.final_emissions_data"
   ]
  },
  {
   "cell_type": "markdown",
   "id": "33c5b693-f946-493b-b1bb-bf56875befe4",
   "metadata": {},
   "source": [
    "#### Question 5\n",
    "\n",
    "Report here the CO2 emissions generated by the two tasks, in grams (`emissions` in the output):\n",
    "- Additions:\n",
    "- Question answering:"
   ]
  },
  {
   "cell_type": "markdown",
   "id": "4039819a",
   "metadata": {},
   "source": [
    "#### Question 6\n",
    "\n",
    "In a 2009 estimate, Google said each query on its site generates 0.2 g of carbon dioxide, much higher than the toy examples above. In 2023, it was estimated that there are 99000 search queries per second run on the site. Assuming these numbers are accurate, how many **kilograms of carbon dioxide** are generated in a year by Google searches?"
   ]
  },
  {
   "cell_type": "code",
   "execution_count": null,
   "id": "20dbeab9",
   "metadata": {
    "tags": []
   },
   "outputs": [],
   "source": [
    "# Your answer here"
   ]
  },
  {
   "cell_type": "markdown",
   "id": "403b8957-befb-4f22-9e46-abbdafde72b6",
   "metadata": {},
   "source": [
    "#### Question 7\n",
    "\n",
    "The result of the previous question may not be very meaningful to a non-expert in environmental sciences. Thankfully, the U.S. Environmental Protection Agency (EPA) has released a tool, called [Greenhouse Gas Equivalencies Calculator](), to convert these numbers in more understandable equivalencies. Try inserting your result from the previous question in the tool, and answer this question: **how many pounds of coal should be burned to produce the same amount of CO2 as a year of Google searches?**"
   ]
  },
  {
   "cell_type": "markdown",
   "id": "1991607e-8d41-4d75-bbaa-4e6e5bfe4e0e",
   "metadata": {},
   "source": []
  },
  {
   "cell_type": "markdown",
   "id": "d61412bb-6dbc-4ed5-8676-c32e42d55a16",
   "metadata": {},
   "source": [
    "Finally, let's evaluate the carbon footprint of one of the models used in this course. In the cells below, you can find the code used to train a random forest model on the NIJ recidivism data used in Assignment 3. Look at this code and add two EmissionTracker, one to track the emissions produced when using the random forest model without fine tuning, and another one to track the emissions produced when fine-tuning the random forest model using 20 combinations of parameters. Include training and scoring in your tracking (but not preprocessing). Comments in the code should help you find the right place to insert the trackers."
   ]
  },
  {
   "cell_type": "code",
   "execution_count": null,
   "id": "4dcaada3",
   "metadata": {
    "tags": []
   },
   "outputs": [],
   "source": [
    "# Importing the training and test sets (you may need to adjust this code to match your folder location)\n",
    "\n",
    "train_df = pd.read_csv(\"../Assignment 3/training_set.csv\")\n",
    "test_df = pd.read_csv(\"../Assignment 3/testing_set.csv\")\n",
    "\n",
    "# Separating features and targets\n",
    "\n",
    "X_train, y_train = (\n",
    "    train_df.drop(columns=[\"Recidivism_Within_3years\"]),\n",
    "    train_df[\"Recidivism_Within_3years\"],\n",
    ")\n",
    "X_test, y_test = (\n",
    "    test_df.drop(columns=[\"Recidivism_Within_3years\"]),\n",
    "    test_df[\"Recidivism_Within_3years\"],\n",
    ")"
   ]
  },
  {
   "cell_type": "code",
   "execution_count": null,
   "id": "7951c968",
   "metadata": {
    "tags": []
   },
   "outputs": [],
   "source": [
    "# Feature preprocessing\n",
    "\n",
    "numeric_feats = [\n",
    "    \"Residence_PUMA\",\n",
    "    \"Supervision_Risk_Score_First\",\n",
    "    \"Avg_Days_per_DrugTest\",\n",
    "    \"DrugTests_THC_Positive\",\n",
    "    \"DrugTests_Cocaine_Positive\",\n",
    "    \"DrugTests_Meth_Positive\",\n",
    "    \"DrugTests_Other_Positive\",\n",
    "    \"Percent_Days_Employed\",\n",
    "    \"Jobs_Per_Year\"    \n",
    "]  # apply scaling and imputation\n",
    "categorical_feats = [\"Gender\",\n",
    "                     \"Race\",\n",
    "                     \"Age_at_Release\",\n",
    "                     \"Gang_Affiliated\",\n",
    "                     \"Supervision_Level_First\",\n",
    "                     \"Education_Level\",\n",
    "                     \"Dependents\",\n",
    "                     \"Prison_Offense\",\n",
    "                     \"Prison_Years\",\n",
    "                     \"Prior_Arrest_Episodes_Felony\",\n",
    "                     \"Prior_Arrest_Episodes_Misd\",\n",
    "                     \"Prior_Arrest_Episodes_Violent\",\n",
    "                     \"Prior_Arrest_Episodes_Property\",\n",
    "                     \"Prior_Arrest_Episodes_Drug\",\n",
    "                     \"Prior_Arrest_Episodes_PPViolationCharges\",\n",
    "                     \"Prior_Conviction_Episodes_Felony\",\n",
    "                     \"Prior_Conviction_Episodes_Misd\",\n",
    "                     \"Prior_Conviction_Episodes_Prop\",\n",
    "                     \"Prior_Conviction_Episodes_Drug\",\n",
    "                     \"Delinquency_Reports\",\n",
    "                     \"Program_Attendances\",\n",
    "                     \"Program_UnexcusedAbsences\",\n",
    "                     \"Residence_Changes\",\n",
    "                     ]  # apply one-hot encoding\n",
    "passthrough_feats = [\"Prior_Arrest_Episodes_DVCharges\",\n",
    "                \"Prior_Arrest_Episodes_GunCharges\",\n",
    "                \"Prior_Conviction_Episodes_Viol\",\n",
    "                \"Prior_Conviction_Episodes_PPViolationCharges\",\n",
    "                \"Prior_Conviction_Episodes_DomesticViolenceCharges\",\n",
    "                \"Prior_Conviction_Episodes_GunCharges\",\n",
    "                \"Prior_Revocations_Parole\",\n",
    "                \"Prior_Revocations_Probation\",\n",
    "                \"Condition_MH_SA\",\n",
    "                \"Condition_Cog_Ed\",\n",
    "                \"Condition_Other\",\n",
    "                \"Violations_ElectronicMonitoring\",\n",
    "                \"Violations_Instruction\",\n",
    "                \"Violations_FailToReport\",\n",
    "                \"Violations_MoveWithoutPermission\"\n",
    "                ]  # Already binary\n",
    "drop_feats = [\"ID\",\n",
    "              \"Recidivism_Arrest_Year1\", \n",
    "              \"Recidivism_Arrest_Year2\",\n",
    "              \"Recidivism_Arrest_Year3\",\n",
    "              \"Training_Sample\"]   # features not of interest\n",
    "target = \"Recidivism_Within_3years\"\n",
    "\n",
    "ct = make_column_transformer(\n",
    "    (\n",
    "        make_pipeline(SimpleImputer(), StandardScaler()),\n",
    "        numeric_feats,\n",
    "    ),  # scaling on numeric features\n",
    "    (\n",
    "        make_pipeline(SimpleImputer(strategy=\"most_frequent\"),OneHotEncoder(handle_unknown=\"ignore\",drop=\"if_binary\")),\n",
    "        categorical_feats,\n",
    "    ),  # OHE on categorical features\n",
    "    (\"passthrough\", passthrough_feats),  # no transformations on the binary features\n",
    "    (\"drop\", drop_feats),  # drop the drop features\n",
    ")"
   ]
  },
  {
   "cell_type": "code",
   "execution_count": null,
   "id": "f4d70643",
   "metadata": {
    "tags": []
   },
   "outputs": [],
   "source": [
    "# Fitting feature transformer and transforming training features\n",
    "\n",
    "X_train_transformed = ct.fit_transform(X_train)\n",
    "column_names = numeric_feats + list(\n",
    "    ct.named_transformers_[\"pipeline-2\"].get_feature_names_out(\n",
    "        categorical_feats\n",
    "    )\n",
    ") + passthrough_feats"
   ]
  },
  {
   "cell_type": "code",
   "execution_count": null,
   "id": "69f387d3",
   "metadata": {
    "tags": []
   },
   "outputs": [],
   "source": [
    "results = {}  # Dictionary to collect results\n",
    "emissions = []  # List to collect emission results from the tracker\n",
    "                # You can add a result to this list after the tracker has stopped by calling \n",
    "                # emissions.append(tracker.final_emissions_data.emissions)\n",
    "\n",
    "# We will use this function to fit and evaluate the models using cross-validation\n",
    "def mean_std_cross_val_scores(model, X_train, y_train, **kwargs):\n",
    "    \"\"\"\n",
    "    Returns mean and std of cross validation\n",
    "    \"\"\"\n",
    "    scores = cross_validate(model, X_train, y_train, **kwargs)\n",
    "\n",
    "    mean_scores = pd.DataFrame(scores).mean()\n",
    "    std_scores = pd.DataFrame(scores).std()\n",
    "    out_col = []\n",
    "\n",
    "    for i in range(len(mean_scores)):\n",
    "        out_col.append((f\"%0.3f (+/- %0.3f)\" % (mean_scores[i], std_scores[i])))\n",
    "    \n",
    "    return pd.Series(data=out_col, index=mean_scores.index)"
   ]
  },
  {
   "cell_type": "code",
   "execution_count": null,
   "id": "bb20c9fa",
   "metadata": {
    "tags": []
   },
   "outputs": [],
   "source": [
    "# Pipeline including the column transformer and the random forest classifier\n",
    "\n",
    "pipe_forest = Pipeline([\n",
    "    ('ct', ct),\n",
    "    ('rf', RandomForestClassifier(class_weight=\"balanced\", random_state=2))])\n",
    "\n",
    "\n",
    "# Calling mean_std_cross_val_scores to fit and evaluate the model, and add the results to our dictionary\n",
    "\n",
    "results[\"random_forest\"] = mean_std_cross_val_scores(\n",
    "    pipe_forest, X_train, y_train, return_train_score=True\n",
    ")"
   ]
  },
  {
   "cell_type": "code",
   "execution_count": null,
   "id": "faa3394c",
   "metadata": {
    "tags": []
   },
   "outputs": [],
   "source": [
    "# Now, we are going to tune the random forest model across 2 parameters: max_depth and n_estimators\n",
    "\n",
    "param_grid_rf = {\n",
    "    \"rf__n_estimators\": randint(low=10, high=100),\n",
    "    \"rf__max_depth\": randint(low=2, high=20),\n",
    "}\n",
    "\n",
    "random_search_rf = RandomizedSearchCV(\n",
    "    pipe_forest,\n",
    "    param_grid_rf,\n",
    "    n_iter=20,   # This parameter specifies the number of combinations to try (20, in this case)\n",
    "    verbose=1,\n",
    "    n_jobs=-1,\n",
    "    random_state=123,\n",
    "    return_train_score=True,\n",
    ")\n",
    "\n",
    "# Fine-tuning the random forest model\n",
    "random_search_rf.fit(X_train, y_train);\n",
    "\n",
    "# Final fit and evaluation of the random forest model using the best paramaters found during tuning\n",
    "best_rf_model = random_search_rf.best_estimator_\n",
    "results[\"random forest (tuned)\"] = mean_std_cross_val_scores(\n",
    "    best_rf_model, X_train, y_train, return_train_score=True\n",
    ")"
   ]
  },
  {
   "cell_type": "code",
   "execution_count": null,
   "id": "c3a59f3f",
   "metadata": {},
   "outputs": [],
   "source": [
    "# Run this cell to visualize some information on the models (including training and testing accuracy), and their emissions\n",
    "\n",
    "results_df = pd.DataFrame(results)\n",
    "results_df.loc['emissions (g of CO2)'] = emissions\n",
    "results_df"
   ]
  },
  {
   "cell_type": "markdown",
   "id": "84323ff6-da85-4349-aa60-9aaa77aa057f",
   "metadata": {},
   "source": [
    "#### Question 8\n",
    "- What was the improvement in accuracy (on the test set) after fine tuning?\n",
    "- How many more grams of CO2 were produced for this improvement? You can answer in the form \"Fine tuning produces X many times more CO2\""
   ]
  },
  {
   "cell_type": "markdown",
   "id": "0401899e-cdde-424f-a3dc-f7735b4980f6",
   "metadata": {},
   "source": []
  },
  {
   "cell_type": "markdown",
   "id": "e1a77fce-0f3b-4862-aeae-b8962531e1b3",
   "metadata": {},
   "source": [
    "# Final thoughts\n",
    "\n",
    "1) If you have completed this assignment in a group, please write a detailed description of how you divided the work and how you helped each other completing it:"
   ]
  },
  {
   "cell_type": "markdown",
   "id": "98b0b57e-80ab-427f-ae02-90ce55239c43",
   "metadata": {},
   "source": []
  },
  {
   "cell_type": "markdown",
   "id": "7b0a4b75-4f19-4686-93ed-72d4d8457196",
   "metadata": {},
   "source": [
    "2) Have you used ChatGPT or a similar Large Language Model (LLM) to complete this homework? Please describe how you used the tool. We will never deduct points for using LLMs for completing homework assignments, but this helps us understand how you are using the tool and advise you in case we believe you are using it incorrectly."
   ]
  },
  {
   "cell_type": "markdown",
   "id": "4384dcbf-655a-485c-9151-40e849501e89",
   "metadata": {},
   "source": []
  },
  {
   "cell_type": "markdown",
   "id": "e79344f2-b2c8-4896-9457-768e12e0d332",
   "metadata": {},
   "source": [
    "3) Have you struggled with some parts (or all) of this homework? Do you have pending questions you would like to ask? Write them down here!"
   ]
  },
  {
   "cell_type": "markdown",
   "id": "fea2e6c1-bc0b-4645-b636-f2191808eafb",
   "metadata": {},
   "source": []
  }
 ],
 "metadata": {
  "kernelspec": {
   "display_name": "Python [conda env:dsci430]",
   "language": "python",
   "name": "conda-env-dsci430-py"
  },
  "language_info": {
   "codemirror_mode": {
    "name": "ipython",
    "version": 3
   },
   "file_extension": ".py",
   "mimetype": "text/x-python",
   "name": "python",
   "nbconvert_exporter": "python",
   "pygments_lexer": "ipython3",
   "version": "3.10.12"
  }
 },
 "nbformat": 4,
 "nbformat_minor": 5
}
