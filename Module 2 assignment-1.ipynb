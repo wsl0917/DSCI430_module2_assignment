{
 "cells": [
  {
   "cell_type": "markdown",
   "id": "0583cc19-bc52-45ff-adb6-68c42d62dfb2",
   "metadata": {},
   "source": [
    "# Module 2 - Data collection, validation and privacy\n",
    "\n",
    "\n",
    "### Assignment overview\n",
    "\n",
    "In this assignment, you will be exploring various aspects related to collecting data and identifying bias in datasets. You will also be asked to consider issues of data privacy and governance.\n",
    "\n",
    "For this assignment, it is possible to work in **groups of up to 2 students**. \n",
    "\n",
    "### Group members\n",
    "Leave blanks if group has less than 2 members:\n",
    "- Student 1:\n",
    "- Student 2:\n",
    "\n",
    "### Learning Goals:\n",
    "\n",
    "After completing this week's lecture and tutorial work, you will be able to:\n",
    "1. Discuss the implications of data governance and data ownership in data science  \n",
    "2. Argue the advantages and disadvantages of collecting individuals’ data online  \n",
    "3. Distinguish between a sample and a population, what attributes make a representative sample and the possible ethical implications of a non-representative sample  \n",
    "4. Explain the elements of experimental design \n",
    "5. Identify possible sources of bias in datasets (such as historical, measurement, and representation bias) \n",
    "6. Describe the ethical implications of variable choice in data science (e.g., use of proxies, use of gender and race as variables) \n",
    "7. Apply good practices for minimizing errors in data cleaning  \n",
    "8. Apply methods for improving privacy and anonymity in stored data and data analysis, such as k-anonymity and randomized response \n",
    "9. Explain the notion of differential privacy \n"
   ]
  },
  {
   "cell_type": "markdown",
   "id": "ca60784f-69dd-46f2-928a-db31b475362f",
   "metadata": {},
   "source": [
    "# Part 1: Data collection, sampling and bias"
   ]
  },
  {
   "cell_type": "markdown",
   "id": "dfa73180-0545-4c97-b1f2-f752e9be1c1c",
   "metadata": {},
   "source": [
    "In class, we discussed different sources of bias that can affect the data we want to use for our Data Science applications. Here is a summary:\n",
    "\n",
    "### 1. Historical bias\n",
    "**Historical bias:** bias that exists in society and is reflected in the data. It is the most insidious because it arises even if we are able to perfectly sample from the existing population. Most often, it affects groups that are historically disadvantaged.\n",
    "\n",
    "E.g. In 2018, 5% of Fortune 500 CEOs were women. Historically, women have less frequently made it to a CEO position. A classifier trained to predict the best choice for a new CEO may learn this pattern and determine that being a woman makes one less qualified to be a CEO.\n",
    "\n",
    "### 2. Representation bias\n",
    "**Representation bias:** the sample underrepresents part(s) of the population and fails to generalize well. This may happen for different reasons:\n",
    "\n",
    "1. The sampling methods only reached a portion of the population. E.g. Data collected via smartphone apps can under-represent lower incomes or older groups, who may be less likely to own smartphones.\n",
    "\n",
    "2. The population of interest has changed or is distinct from the sample used during model training. E.g. Data that is representative of Vancouver may not be representative if used to analyze the population in Toronto. Similarly, data representative of Vancouver 100 years ago may not reflect today's population. \n",
    "\n",
    "### 3. Measurement bias\n",
    "**Measurement bias:** it occurs when choosing features that fail to correctly represent the problem, or when there are issues with the data collection. Fore example:\n",
    "\n",
    "1. The measurement processes varies across groups. E.g. one group of workers is monitored more closely and thus more errors are observed in that group.\n",
    "\n",
    "2. The quality of data varies across groups. E.g. women often self-report less pain than men and are therefore less likely to receive certain diagnoses\n",
    "\n",
    "3. The defined classification task or one of the features used is an oversimplification. E.g. We are designing a model to predict whether a student will be successful in college. We choose to predict the final GPA as metric of success. This, however, ignores other indicators of success."
   ]
  },
  {
   "cell_type": "markdown",
   "id": "f3cc12fa-d15e-4e6a-af54-6d44af8a0ac2",
   "metadata": {},
   "source": [
    "**Question 1** \n",
    "\n",
    "Consider a crowd-sourcing project called [Street Bump](https://www.boston.gov/transportation/street-bump) aimed at helping improve neighbourhood streets in Boston from 2011 to 2014. Volunteers used a smartphone app, which captured GPS location and reported back to the city everytime the driver hit a pothole. The data was provided to governments so they could use the data to fix any road issues.\n",
    "\n",
    "Can you think of any sources of bias in the scenario above? Explain them. "
   ]
  },
  {
   "cell_type": "markdown",
   "id": "c1ee6fea-bd86-4b08-9657-80cb4408e55e",
   "metadata": {},
   "source": [
    "The biases in the Street Bump project are primarily representation bias and measurement bias. Firstly, in terms of representativeness bias, the program relies on volunteers to participate and report data, and there is a high probability that this participation will not be evenly distributed across all neighborhoods. This would result in the system being more likely to receive more pothole reports from neighborhoods with high volunteer participation, leading to uneven street maintenance across neighborhoods; similarly, the program relies on a smartphone app as well as GPS. this means that it gets its data primarily from people who have smartphones. This excludes people who do not have access to a smartphone, which usually comes from people with low incomes or the elderly. As a result, affluent neighborhoods with more smartphone users are more likely to report a road issue, which can also lead to uneven street maintenance in different neighborhoods. Secondly, is measurement bias, which can result in different volunteers reporting different results for the same road problem due to differences in the type of vehicle the volunteers drive, their driving habits (including speed, etc.), and the sensitivity of their cell phones to detecting bumps.|"
   ]
  },
  {
   "attachments": {},
   "cell_type": "markdown",
   "id": "74311bd8",
   "metadata": {},
   "source": [
    "## Observational and experimental studies\n",
    "\n",
    "- **Observational study:** study where there is no deliberate human intervention regarding the variable under investigation. Observational studies are ones where researchers observe the effect of a treatment/intervention without trying to change who is or isn’t exposed to it. In an observational study, the subjects are assigned or assign themselves to the exposure group they belong to.\n",
    "- **Experimental study:** : study that involves planned intervention on the exposure to a condition. In an experiment, subjects are assigned to a condition by the researcher and thus one can establish a cause-and-effect relationship when we see a difference in the outcome between the experimental groups. Randomizing study subjects balances any differences between treatment groups with respect to all variables except the condition of exposure."
   ]
  },
  {
   "cell_type": "markdown",
   "id": "f1668125-5dc0-4f5c-b1fe-5bbc05f33118",
   "metadata": {},
   "source": [
    "## A/B testing\n",
    "\n",
    "A/B testing can be considered the most basic kind of randomized controlled experiment. \n",
    "\n",
    "Complete the following reading, then answer the comprehension questions below: https://hbr.org/2017/06/a-refresher-on-ab-testing"
   ]
  },
  {
   "attachments": {},
   "cell_type": "markdown",
   "id": "e87eb16e",
   "metadata": {},
   "source": [
    "**Question 2**\n",
    "\n",
    "In the following table, select which statements are true or false:\n",
    "\n",
    "| Statement | True | False |\n",
    "| -------- | :------- | :------- |\n",
    "| A/B testing is an example of experimental study. |    X    |        | \n",
    "| Observational studies require subjects to not be informed that they are being studied. |        |    X    |  \n",
    "| Ethical experimental studies require genuine uncertainty about the benefits/harms of treatment or exposure (equipoise) |    X    |        | \n",
    "| A researcher is interested in studying the effects of certain dietary habits. They recruite people and, through a survey, they ask them to disclose their current dietary habits, on which bases they will be assigned to treatment or control group. This is an example of experimantal study. |        |    X    | \n",
    "| The control group and the exposed group must include different individuals. |        |    X    | \n",
    "| One of the main advantages of experimental studies is that they allow for better randomization. |    X    |        | \n",
    "\n"
   ]
  },
  {
   "cell_type": "markdown",
   "id": "0820c2d4-a51f-4895-b45b-6cc1d13c9ff5",
   "metadata": {},
   "source": [
    "**Question 3**\n",
    "\n",
    "Explain the role of blocking in A/B testing."
   ]
  },
  {
   "cell_type": "markdown",
   "id": "17d387a4-6bb5-42fa-a45d-ebefaaaf59de",
   "metadata": {},
   "source": []
  },
  {
   "cell_type": "markdown",
   "id": "9123b4e9-9080-40c4-8e19-bcb138f9e52a",
   "metadata": {},
   "source": [
    "**Question 4**\n",
    "\n",
    "The authors warn about observing too many metrics when running an A/B test. Why is that the case? What could happen if I ignore this warning?"
   ]
  },
  {
   "cell_type": "markdown",
   "id": "cb4c7a6d-55d5-4dce-a642-d0256c81cbd2",
   "metadata": {},
   "source": []
  },
  {
   "cell_type": "markdown",
   "id": "9e08fa4d-dc82-453a-bab3-4cd38dba22f9",
   "metadata": {},
   "source": [
    "**Question 5** \n",
    "\n",
    "You want to determine the size of the subscribe button on your website. You plan to evaluate the performance by the number of visitors who click on the button. To run the test, you show one set of users one version and collect information about the number of visitors who click on the button. One month later you show users another version where the only thing different is the size of the button. Based on this test, you determine that the second version had a higher number of visitors who clicked on the button. Can you conclude that this version of the website leads to a higher number of visitors clicking on the button? Briefly explain.  "
   ]
  },
  {
   "cell_type": "markdown",
   "id": "e447b136-f5fb-4ff3-8c6c-3e2c54a4b466",
   "metadata": {},
   "source": []
  },
  {
   "cell_type": "markdown",
   "id": "6b10e467-b8d7-4414-b911-8c43ec34174c",
   "metadata": {},
   "source": [
    "### Ethical A/B testing\n",
    "Ethical A/B testing still requires all the ethical considerations of any experimental study, such as informed consent or possibility to opt out. A notorious case of a company failing to meet ethics requirement in A/B testing is the infamous Facebook \"social contagion experiment\", in which almost 700,000 users were showed, for a week, only positive or only negative content, to see how this variation impacted their online behaviour. The selected users were not informed and could not opt out. Furthermore, their emotional state was affected. Facebook defended itself by saying that Facebook's Data Use Policy warns users that Facebook “may use the information we receive about you…for internal operations, including troubleshooting, data analysis, testing, research and service improvement”. This defense was largely rejected by the scientific community, which still considered the study as unethical. You can read more about this incident in this [article](https://www.theguardian.com/technology/2014/jun/30/facebook-emotion-study-breached-ethical-guidelines-researchers-say). "
   ]
  },
  {
   "cell_type": "markdown",
   "id": "1443e967-d4c2-4e07-936f-88287cc0dd79",
   "metadata": {},
   "source": [
    "## Case Study: National Institute of Justice's (NIJ) Recidivism Dataset \n",
    "\n",
    "We will now look at the NIJ's Recidivism data set, which contains data on 26,000 individuals from the State of Georgia released from prison on parole (early release from prison where the person agrees to abide by certain conditions) between January 1, 2013 and December 31, 2015. **Recidivism** is the act of committing another crime.\n",
    "\n",
    "This dataset is split into two sets, training and test, 70% of the data is in the training dataset and 30% in the test dataset. The training set contains four variables that measure recidivism: whether an individual recidivated within three years of the supervision start date and whether they recidivated in year 1, year 2, or year 3. In this data set, recidivism is defined as being arrested for a new crime during this three-year period. The test set does not include these four variables. \n",
    "\n",
    "The data was provided by the Georgia Department of Community Supervision (GDCS) and the Georgia Bureau of Investigation.\n",
    "\n",
    "*Source: https://data.ojp.usdoj.gov/stories/s/daxx-hznc*\n",
    "\n",
    "Let's start by familiarizing with the [dataset source](https://nij.ojp.gov/funding/recidivism-forecasting-challenge). The website includes a lot of information on the dataset and a detailed description of each of its columns (look for Appendix 2: Codebook).\n",
    "\n"
   ]
  },
  {
   "cell_type": "markdown",
   "id": "9731fcb9-4991-4835-9dd4-e62caa310a3e",
   "metadata": {},
   "source": [
    "**Question 6**\n",
    "Think about how the data set was collected and what we are trying to predict. Are there any potential sources of bias (historical, representation, measurement)? Explain your answer. "
   ]
  },
  {
   "cell_type": "markdown",
   "id": "25aff775-5363-44bf-8e0e-59f96f215be0",
   "metadata": {},
   "source": [
    "### Question 7: Exploratory Data Analysis (EDA)\n",
    "\n",
    "We are now going to perform some Exploratory Data Analysis on the NIJ's Recidivism Training set. This will serve 2 purposes:\n",
    "- it will help us familiarize with the dataset\n",
    "- it will help us spot possible imbalances or sources of bias in the dataset\n",
    "\n",
    "You are free to use tools and functions of your choice to complete the EDA. Your goal is to answer the following questions:\n",
    "1. Does the dataset include protected characteristics? We recommend using the [BC Human Rights Code](http://www.bchrt.bc.ca/human-rights-duties/characteristics.htm) for reference.\n",
    "2. If the dataset includes protected characteristic, do you think they are necessary to perform the predictive task? Why or why not?\n",
    "3. If we were to remove the columns including protected characteristics, do you think it would still be possible to retrieve that information through other features (proxies)? Explain how.\n",
    "4. Is the target variable balanced? If not, what could happen?\n",
    "5. Is the target variable balanced *across protected segments of the population?* What could happen if this is not the case? \n",
    "6. Are there features with missing values? Do you suspect that they may be Missing Not At Random (MNAR), and if so, how would it be best to fill this information?\n",
    "\n",
    "**Notes:**\n",
    "- Bar charts and other plots are helpful to visually spot imbalances\n",
    "- You are encouraged to talk to the instructor and TA to discuss your EDA strategy and if you need suggestions with the code"
   ]
  },
  {
   "cell_type": "code",
   "execution_count": 1,
   "id": "98c7668d-2968-4850-b8f9-a00bb6e83239",
   "metadata": {
    "tags": []
   },
   "outputs": [],
   "source": [
    "# Your solution here. You may add more code/markdown cells as needed. \n"
   ]
  },
  {
   "cell_type": "markdown",
   "id": "33debfe2-24fe-47c6-88b2-d7e9a3f0e586",
   "metadata": {},
   "source": [
    "# Part 2: Privacy\n",
    "\n"
   ]
  },
  {
   "cell_type": "markdown",
   "id": "13990747-b2a7-4e80-83de-98f1446d68d5",
   "metadata": {},
   "source": [
    "When collecting data for a study, privacy is almost always a primary concern. Our data set may include information that makes it possible to identify an individual, including:\n",
    "\n",
    "- **Direct identifiers**, which are the ones that can be used to uniquely identify an individual or a household in a dataset, such as a record ID number, patient number, social insurance number, full address, etc. Usually, name is also considered a direct identifier (although several people can have the same name). Other features such as age, date of birth, or postal code are not sufficient on their own to uniquely identify an individual and would not be considered direct identifiers.\n",
    "- **Indirect (or quasi) identifiers**, which are the columns that do not themselves identify any individual or household, but can do so when combined with other indirect-identifiers. For example, postal code and date of birth are often indirect identifiers, because it is very likely that within a zip code only one individual has this particular birth date. The more indirect identifiers that you have, the more likely it is that individuals become identifiable because there are more possible unique combinations of identifying features.\n",
    "\n",
    "### Question 8\n",
    "1. Which columns in the NIJ dataset are direct identifiers? Briefly motivate your answer.\n",
    "2. Which of the remaining columns make good candidates for indirect identifiers? Which ones do not?\n",
    "\n",
    "Hint: It can be useful to use the `nunique()` and `value_counts()` dataframe methods to get an idea of how many distinct values a feature has.\n"
   ]
  },
  {
   "cell_type": "code",
   "execution_count": 1,
   "id": "e53c05a5-0137-4285-b395-61e1b75099b7",
   "metadata": {
    "tags": []
   },
   "outputs": [],
   "source": [
    "# Your answer here (code portion)"
   ]
  },
  {
   "cell_type": "markdown",
   "id": "3b993987-8906-41d8-bcad-8edde402225f",
   "metadata": {},
   "source": []
  },
  {
   "cell_type": "markdown",
   "id": "7aba0dde-7757-4d0e-b73b-b22f2f535cbe",
   "metadata": {},
   "source": [
    "## De-identification of structured data\n",
    "\n",
    "To safeguard the privacy of the individuals in our dataset, we need to make sure that they are not identifiable, either directly or indirectly. There are three main strategies to achieve this: suppression, pseudonymization, and generalization.\n",
    "\n",
    "### Suppression\n",
    "Suppression is an effective way to get rid of a direct identifier by simply removing the entire column. \n",
    "\n",
    "**Question 9:** using the appropriate dataframe methods, suppress all direct identifier in the NIJ training set. Save the result in a new dataframe called `suppressed_df`"
   ]
  },
  {
   "cell_type": "code",
   "execution_count": 2,
   "id": "59f4b2a3-bbf2-4d16-b78d-0119d860b204",
   "metadata": {
    "tags": []
   },
   "outputs": [],
   "source": [
    "# Your answer here"
   ]
  },
  {
   "cell_type": "markdown",
   "id": "11ea7b41-8a4d-4528-8309-539a902f1b1c",
   "metadata": {},
   "source": [
    "### Pseudonymization\n",
    "\n",
    "A big issue with suppression of direct identifier is that it is not reversible. If at some point we need to identify an individual in our dataset, we would be out of luck. If you have reasons to believe that re-identification may be required, pseudonymization would be a better option to handle direct identifiers. Pseudonymization replaces one or more direct identifiers with a unique but less meaningful value. Usually when we pseudonymize an identifier, there is a possibility of re-identification if required (but it would not be available to the general public).\n",
    "\n",
    "**Question 10:** pseudomyze the ID column of the NIJ training set and save the result in a new dataframe called `pseudo_df`. In a different code cell, show that it is possible to re-identify the samples by converting them back to the original ID number.\n",
    "\n",
    "There are different ways to achieve this you may want to explore:\n",
    "- Write your own pseudonymization function. You should write at least 2 functions: one to pseudomyze, and another to re-identify. The function does not have to be exceedingly complex but it should not be obvious either (e.g. only basic arithmetic involved).\n",
    "- Use an extisting library, such as [`cryptography`](https://cryptography.io/en/latest/)."
   ]
  },
  {
   "cell_type": "code",
   "execution_count": 3,
   "id": "e6be3295-6427-470a-a47a-d3176a636b57",
   "metadata": {
    "tags": []
   },
   "outputs": [],
   "source": [
    "# Your answer here (you may add more cells as needed)"
   ]
  },
  {
   "cell_type": "markdown",
   "id": "7f398e2b-8c36-4d05-b6fb-00de7ca702bb",
   "metadata": {},
   "source": [
    "### Generalization\n",
    "\n",
    "Generalization is a commonly used technique in anonymization, which involves reducing the precision of a column. For example, the date of birth or the date of a doctor's visit can be generalized to a month and year, to a year, or to a five-year interval. Generalization can help achieving $k$-anonymity. \n",
    "\n",
    "To check for $k$-anonymity, we will use the [`pycanon` library](https://github.com/IFCA/pycanon). You can install this library in your virtual environment by running the command:\n",
    "\n",
    "```\n",
    "pip install pycanon\n",
    "```\n",
    "\n",
    "**Question 11:** `pycanon` includes several functions (feel free to explore them in the related documentation), but we will only be using `k-anonimity`. Look at the documentation, then use `k-anonimity` to determine the $k$-anonymity of the following groups of variables:\n",
    "\n",
    "- $k$-anonymity of Gender and Race features: ?\n",
    "- $k$-anonymity of Gender, Race, and Age_at_Release features: ?\n",
    "- $k$-anonymity of Gender, Race, Age_at_Release and Residence_PUMA features: ?"
   ]
  },
  {
   "cell_type": "code",
   "execution_count": null,
   "id": "d1ed9cf8-97ac-4108-a595-8b4b8dc513d1",
   "metadata": {
    "tags": []
   },
   "outputs": [],
   "source": [
    "from pycanon import anonymity\n",
    "\n",
    "# Your answer here"
   ]
  },
  {
   "cell_type": "markdown",
   "id": "1e20204f-98bb-4777-93cc-11b25051c8f0",
   "metadata": {},
   "source": [
    "The $k$-anonymity of the combination of Gender, Race, Age_at_Release and Residence_PUMA is clearly problematic! It would be very easy to identify someone if we knew these 4 pieces of information about them. \n",
    "\n",
    "**Question 12:** can you bin the Residence_PUMA feature to achieve 4-anonymity for this set of features? Add the new column to the existing dataframe, using the name `Binned_PUMA`.\n",
    "\n",
    "For this task, you may want to look into the `cut()` and `qcut()` functions of the pandas library.\n",
    "\n",
    "Remember that now, when checking for $k$-anonymity, you should be looking at the new column `Binned_PUMA`, not at `Residence_PUMA`."
   ]
  },
  {
   "cell_type": "code",
   "execution_count": 22,
   "id": "8e7ffef0-e213-453f-a684-286325d28899",
   "metadata": {
    "tags": []
   },
   "outputs": [],
   "source": [
    "# Your answer here"
   ]
  },
  {
   "cell_type": "markdown",
   "id": "46b86b8f-9c2d-43c1-a431-3d29c51260ca",
   "metadata": {},
   "source": [
    "With 4-anonymity for these set of features, we can rest assured that there are at least 4 individuals sharing the same combination, making it more difficult to identify someone by knowing only these 4 pieces of information. However, let's not ignore the following issues:\n",
    "- We did not test $k$-anonymity for other combinations of features, so it is very likely that our dataset is still not anonymized.\n",
    "- 4-anonymity is not very strong; if I can narrow down my search to 4 people, I can still learn a lot about a person (at least approximatively).\n",
    "- We may lose $k$-anonymity by adding more information."
   ]
  },
  {
   "cell_type": "markdown",
   "id": "a3c43682-9285-4787-9c79-82976bd7d0a2",
   "metadata": {},
   "source": [
    "## Differential Privacy\n",
    "\n",
    "As discussed in class, differential privacy is a stronger, mathematically robust definition of privacy for an algorithm. You can learn more about it by watching this video from Minute Physics: [Protecting Privacy with MATH](https://www.youtube.com/watch?v=pT19VwBAqKA)\n",
    "\n",
    "After watching this video, try answering the following questions:\n",
    "1. If you have two differentially private datasets, one with and one without your data, what does differential privacy guarantee regarding your privacy?\n",
    "2. An algorithm has differential privacy $\\epsilon$ = 2, another one $\\epsilon$ = 4. Which one provides a higher level of privacy? Explain your answer.\n",
    "3. The video highlights at least two of the main challenges with differential privacy. Summarize them."
   ]
  },
  {
   "cell_type": "markdown",
   "id": "7ed1bae8-748c-4216-a619-a93bd4f8915f",
   "metadata": {},
   "source": []
  },
  {
   "cell_type": "markdown",
   "id": "0112254e-7e1a-4b7e-9f18-330ccbd5e65c",
   "metadata": {},
   "source": [
    "## Randomized response\n",
    "\n",
    "In class, we described randomized polling as a way to conduct interviews including sensitive questions, while protecting individuals' privacy. \n",
    "\n",
    "**Question 13:** imagine that UBC has been surveying students to understand how many of them have been cheating in a final exam. Because the information is very sensitive and students will most likely not want to share this information, they use the randomized polling protocol described in class. If 1000 students have been surveyed, and 300 of them responded \"yes\", what is the actual percentage of students who cheated in a final?"
   ]
  },
  {
   "cell_type": "markdown",
   "id": "2969c4d0-5c21-4ce9-b3b9-553adae452ed",
   "metadata": {},
   "source": []
  },
  {
   "cell_type": "markdown",
   "id": "e9eb3371-a316-4197-99cc-6ec8674dc5cc",
   "metadata": {},
   "source": [
    "# Part 3: Data Governance \n",
    "\n",
    "Data governance refers to the set of policies, procedures and standards that companies and organization must adopt to ensure quality, sacurity and usability of the data in their possession. \n",
    "\n",
    "To gain a better understanding of what data governance is, why it is important and what common mistakes affect it, please read the following articles:\n",
    "- https://www.egnyte.com/guides/governance/data-ownership\n",
    "- https://atlan.com/data-governance-mistakes/#what-is-data-governance\n",
    "\n",
    "As you can see, the issue of data governance is complex and multifaceted. A group of experts with a variety of experties is necessary to design and implement a robust data governance plan. Still, we can train ourselves to spot the most common mistakes when we see them. Take, for example, the following fictitional scenario (co-authored in collaboration with [ChatGPT](https://chat.openai.com/))\n",
    "\n",
    "\"SleekTech Solutions\" is a cutting-edge technology company specializes in technologies related to artificial intelligence and data analytics. Their services include data analytics, big data processing, cloud computing, and Internet of Things (IoT). They offer their services to various industries, such as healthcare, finance, retail, manufacturing.\n",
    "\n",
    "The company is young, only founded in 2021, and has rapidly expanded. At their inception, they used to accumulate data in a vast digital repository known as the \"Data Lake.\" Initially, this seemed like a cost-effective solution to store all types of data, and they have not changed this strategy to this date. \n",
    "\n",
    "To increase agility, SleekTech's different divisions have significant autonomy over their data. This means that the same data may be recorded by different department using different standards and metrics. SleekTech also encourages a culture of openness. Employees have access to vast amounts of data, including sensitive customer information, to complete the tasks they are assigned to.\n",
    "\n",
    "SleekTech has been expanding rapidly. Founded in Canada, is now looking to expand into new markets including US and Europe.\n",
    "\n",
    "**Question 14:** using the readings as reference, outline at least 4 distinct mistakes that SleekTech Solutions is likely to commit because of their data governance strategy. \n"
   ]
  },
  {
   "cell_type": "markdown",
   "id": "036d0fd5-1c8d-4529-8b2a-dfa64709a2df",
   "metadata": {},
   "source": []
  },
  {
   "cell_type": "markdown",
   "id": "56046e4c-b31b-44f8-9c00-318f4d9d45cb",
   "metadata": {},
   "source": [
    "# Final thoughts"
   ]
  },
  {
   "cell_type": "markdown",
   "id": "377f757a-844f-45fa-a121-d56ed43df056",
   "metadata": {
    "slideshow": {
     "slide_type": "slide"
    }
   },
   "source": [
    "1) If you have completed this assignment in a group, please write a detailed description of how you divided the work and how you helped each other completing it:"
   ]
  },
  {
   "cell_type": "markdown",
   "id": "11beafbb-f1a0-45dc-99cd-789d63d1aa44",
   "metadata": {},
   "source": []
  },
  {
   "cell_type": "markdown",
   "id": "12470fa6-624f-4c12-9ce8-910bb9956f8f",
   "metadata": {},
   "source": [
    "2) Have you used ChatGPT or a similar Large Language Model (LLM) to complete this homework? Please describe how you used the tool. **We will never deduct points for using LLMs for completing homework assignments,** but this helps us understand how you are using the tool and advise you in case we believe you are using it incorrectly."
   ]
  },
  {
   "cell_type": "markdown",
   "id": "e1f6d615-3d74-4fbf-929f-1f8429cd1472",
   "metadata": {},
   "source": []
  },
  {
   "cell_type": "markdown",
   "id": "5d645ceb-2173-445a-a98c-eb105296cb48",
   "metadata": {},
   "source": [
    "3) Have you struggled with some parts (or all) of this homework? Do you have pending questions you would like to ask? Write them down here!"
   ]
  },
  {
   "cell_type": "markdown",
   "id": "3847a222-b9f1-4315-b1fa-8640bf0a85ec",
   "metadata": {},
   "source": []
  }
 ],
 "metadata": {
  "kernelspec": {
   "display_name": "Python [conda env:dsci430]",
   "language": "python",
   "name": "conda-env-dsci430-py"
  },
  "language_info": {
   "codemirror_mode": {
    "name": "ipython",
    "version": 3
   },
   "file_extension": ".py",
   "mimetype": "text/x-python",
   "name": "python",
   "nbconvert_exporter": "python",
   "pygments_lexer": "ipython3",
   "version": "3.10.14"
  }
 },
 "nbformat": 4,
 "nbformat_minor": 5
}
